{
 "cells": [
  {
   "cell_type": "markdown",
   "id": "c2125d63",
   "metadata": {},
   "source": [
    "# Tweepy Real Time Twitter Analysis"
   ]
  },
  {
   "cell_type": "markdown",
   "id": "c6d839f8",
   "metadata": {},
   "source": [
    "## 1. Install Tweepy Library"
   ]
  },
  {
   "cell_type": "code",
   "execution_count": null,
   "id": "611731ad",
   "metadata": {},
   "outputs": [],
   "source": [
    "pip install tweepy"
   ]
  },
  {
   "cell_type": "markdown",
   "id": "39ead0c9",
   "metadata": {},
   "source": [
    "## 2. Import Tweepy"
   ]
  },
  {
   "cell_type": "code",
   "execution_count": 4,
   "id": "8d8b5ae5",
   "metadata": {},
   "outputs": [],
   "source": [
    "import tweepy"
   ]
  },
  {
   "cell_type": "markdown",
   "id": "4878f4c4",
   "metadata": {},
   "source": [
    "## 3. Access Token For Twitter Streams "
   ]
  },
  {
   "cell_type": "code",
   "execution_count": 5,
   "id": "37ddbfec",
   "metadata": {},
   "outputs": [],
   "source": [
    "consumer_key=\"\"\n",
    "consumer_secret=\"\"\n",
    "access_token_key=\"\"\n",
    "access_token_secret=\"\""
   ]
  },
  {
   "cell_type": "markdown",
   "id": "cc5f4749",
   "metadata": {},
   "source": [
    "## 4. Get Stream Tweets"
   ]
  },
  {
   "cell_type": "code",
   "execution_count": null,
   "id": "ebab041a",
   "metadata": {},
   "outputs": [],
   "source": [
    "class StreamListener(tweepy.Stream):\n",
    "\n",
    "    def on_status(self, status):\n",
    "        json_obj = status._json\n",
    "        print(json_obj)\n",
    "        \n",
    "    def on_error(self, status_code):\n",
    "        if status_code == 420:\n",
    "            return False\n",
    "\n",
    "stream = StreamListener(\n",
    "  consumer_key, consumer_secret,\n",
    "  access_token_key, access_token_secret\n",
    ")\n",
    "\n",
    "stream.filter(track=[\"bugün\"],languages=[\"tr\"])"
   ]
  },
  {
   "cell_type": "markdown",
   "id": "5b0719e2",
   "metadata": {},
   "source": [
    "## 5. Tweepy Debug"
   ]
  },
  {
   "cell_type": "code",
   "execution_count": 14,
   "id": "fffad2b1",
   "metadata": {},
   "outputs": [],
   "source": [
    "tweepy.debug(False)"
   ]
  },
  {
   "cell_type": "markdown",
   "id": "e4c9ca30",
   "metadata": {},
   "source": [
    "## 6. Filter Real Time Tweet "
   ]
  },
  {
   "cell_type": "code",
   "execution_count": null,
   "id": "e683fa51",
   "metadata": {},
   "outputs": [],
   "source": [
    "from datetime import datetime\n",
    "class StreamListener(tweepy.Stream):\n",
    "\n",
    "    def on_status(self, status):\n",
    "        tweet = status._json\n",
    "        year = datetime.strptime(tweet['created_at'], \"%a %b %d %H:%M:%S +0000 %Y\").strftime('%Y-%m-%d').split('-')[0]\n",
    "        month = datetime.strptime(tweet['created_at'], \"%a %b %d %H:%M:%S +0000 %Y\").strftime('%Y-%m-%d').split('-')[1]\n",
    "        day = datetime.strptime(tweet['created_at'], \"%a %b %d %H:%M:%S +0000 %Y\").strftime('%Y-%m-%d').split('-')[2]\n",
    "        filtered_streem_tweet = dict(\n",
    "                    createdAt = int(year+month+day),\n",
    "                    name=tweet['user']['name'][0:3]+\"***\",\n",
    "                  likeCount = tweet['favorite_count'],\n",
    "                 quoteCount = tweet['quote_count'],\n",
    "                 replyCount = tweet['reply_count'],\n",
    "                 retweetCount = tweet['retweet_count'],\n",
    "                text=tweet['text'])\n",
    "        print(filtered_streem_tweet)\n",
    "        \n",
    "\n",
    "    \n",
    "    def on_error(self, status_code):\n",
    "        if status_code == 420:\n",
    "            return False\n",
    "\n",
    "stream = StreamListener(\n",
    "  consumer_key, consumer_secret,\n",
    "  access_token_key, access_token_secret\n",
    ")\n",
    "\n",
    "stream.filter(track=[\"bugün\"],languages=[\"tr\"])"
   ]
  },
  {
   "cell_type": "markdown",
   "id": "6814e9c9",
   "metadata": {},
   "source": [
    "## 7. Tweepy Stream Information"
   ]
  },
  {
   "cell_type": "code",
   "execution_count": null,
   "id": "b4bc6558",
   "metadata": {},
   "outputs": [],
   "source": [
    "stream.running"
   ]
  },
  {
   "cell_type": "code",
   "execution_count": null,
   "id": "6155902f",
   "metadata": {},
   "outputs": [],
   "source": [
    "stream.session"
   ]
  },
  {
   "cell_type": "code",
   "execution_count": null,
   "id": "ce1fda84",
   "metadata": {},
   "outputs": [],
   "source": [
    "stream.user_agent"
   ]
  },
  {
   "cell_type": "code",
   "execution_count": null,
   "id": "6eea94d3",
   "metadata": {},
   "outputs": [],
   "source": [
    "stream.disconnect()"
   ]
  },
  {
   "cell_type": "code",
   "execution_count": null,
   "id": "799b0b49",
   "metadata": {},
   "outputs": [],
   "source": [
    "stream.on_connect()"
   ]
  }
 ],
 "metadata": {
  "kernelspec": {
   "display_name": "Python 3 (ipykernel)",
   "language": "python",
   "name": "python3"
  },
  "language_info": {
   "codemirror_mode": {
    "name": "ipython",
    "version": 3
   },
   "file_extension": ".py",
   "mimetype": "text/x-python",
   "name": "python",
   "nbconvert_exporter": "python",
   "pygments_lexer": "ipython3",
   "version": "3.9.7"
  }
 },
 "nbformat": 4,
 "nbformat_minor": 5
}
